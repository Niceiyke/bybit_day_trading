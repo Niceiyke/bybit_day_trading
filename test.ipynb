{
 "cells": [
  {
   "cell_type": "code",
   "execution_count": 12,
   "metadata": {},
   "outputs": [],
   "source": [
    "import numpy as np\n",
    "import pandas as pd\n",
    "import numpy as np\n",
    "import matplotlib.pyplot as plt\n",
    "from keys import api, secret\n",
    "from pybit.unified_trading import HTTP\n",
    "\n",
    "\n",
    "session = HTTP(\n",
    "    api_key=api,\n",
    "    api_secret=secret)\n",
    "\n",
    "session = HTTP(api_key=api, api_secret=secret)\n"
   ]
  },
  {
   "cell_type": "code",
   "execution_count": 13,
   "metadata": {},
   "outputs": [],
   "source": [
    "\n",
    "def get_klines():\n",
    "    try:\n",
    "        resp = session.get_kline(\n",
    "            category='linear',\n",
    "            symbol='BTCUSDT',\n",
    "            interval=1,\n",
    "            limit=750\n",
    "        )['result']['list']\n",
    "        df = pd.DataFrame(resp)\n",
    "        df.columns = ['Time', 'Open', 'High', 'Low', 'Close', 'Volume', 'Turnover']\n",
    "        df = df.set_index('Time').astype(float).iloc[::-1]\n",
    "        return df\n",
    "    except Exception as e:\n",
    "        print(f\"Error fetching klines: {e}\")\n",
    "        return None"
   ]
  },
  {
   "cell_type": "code",
   "execution_count": null,
   "metadata": {},
   "outputs": [],
   "source": [
    "df=get_klines()\n",
    "ema_12 = df['Close'].ewm(span=12, min_periods=12).mean()\n",
    "ema_26 = df['Close'].ewm(span=26, min_periods=26).mean()\n",
    "macd_line = ema_12 - ema_26\n",
    "signal_line = macd_line.ewm(span=9, min_periods=9).mean()\n",
    "df['MACD'] = macd_line\n",
    "df['Signal_Line'] = signal_line\n",
    "\n",
    "# Calculate 200-period Moving Average\n",
    "df['200_MA'] = df['Close'].rolling(window=200).mean()"
   ]
  },
  {
   "cell_type": "code",
   "execution_count": null,
   "metadata": {},
   "outputs": [],
   "source": [
    "# Generate buy/sell signals\n",
    "df['Buy_Signal'] = (df['MACD'] > df['Signal_Line']) & (df['Close'] > df['200_MA'])&(df['MACD']>5)\n",
    "df['Sell_Signal'] = (df['MACD'] < df['Signal_Line']) & (df['Close'] < df['200_MA'])&(df['MACD']>-5)\n"
   ]
  },
  {
   "cell_type": "code",
   "execution_count": null,
   "metadata": {},
   "outputs": [],
   "source": [
    "# Implement trading strategy\n",
    "df['Position'] = np.where((df['MACD'] > df['Signal_Line']) & (df['Close'] > df['200_MA']), 1, 0)\n",
    "df['Position'] = np.where((df['MACD'] < df['Signal_Line']) & (df['Close'] < df['200_MA']), -1, df['Position'])\n",
    "\n",
    "# Calculate returns\n",
    "df['Returns'] = df['Close'].pct_change() * df['Position'].shift(1)\n"
   ]
  },
  {
   "cell_type": "code",
   "execution_count": null,
   "metadata": {},
   "outputs": [],
   "source": [
    "\n",
    "# Calculate returns\n",
    "df['Returns'] = df['Close'].pct_change() * df['Position'].shift(1)\n",
    "\n",
    "# Print cumulative returns\n",
    "cumulative_returns = (df['Returns'] + 1).cumprod() - 1\n",
    "print(\"Cumulative Returns:\", cumulative_returns.iloc[-1])"
   ]
  },
  {
   "cell_type": "code",
   "execution_count": null,
   "metadata": {},
   "outputs": [],
   "source": [
    "# Plot results\n",
    "plt.figure(figsize=(14,7))\n",
    "plt.plot(df['Close'], label='Price')\n",
    "plt.plot(df['200_MA'], label='200 MA', color='orange')\n",
    "plt.scatter(df[df['Position'] == 1].index, df[df['Position'] == 1]['Close'], label='Buy Signal', marker='^', color='g')\n",
    "plt.scatter(df[df['Position'] == -1].index, df[df['Position'] == -1]['Close'], label='Sell Signal', marker='v', color='r')\n",
    "plt.legend()\n",
    "plt.title('MACD and 200 SMA Trading Strategy')\n",
    "plt.show()"
   ]
  },
  {
   "cell_type": "code",
   "execution_count": null,
   "metadata": {},
   "outputs": [],
   "source": [
    "def backtest_strategy(data):\n",
    "    initial_capital = 10000 # Initial capital in USD\n",
    "    capital = initial_capital\n",
    "    position = 0  # 0: No position, 1: Long position, -1: Short position\n",
    "    buy_price = 0\n",
    "    sell_price = 0\n",
    "    trades = []\n",
    "\n",
    "    for i in range(1, len(data)):\n",
    "        if data['Buy_Signal'][i] and position == 0:\n",
    "            position = 1\n",
    "            buy_price = data['Close'][i]\n",
    "            capital -= buy_price\n",
    "        elif data['Sell_Signal'][i] and position == 1:\n",
    "            position = 0\n",
    "            sell_price = data['Close'][i]\n",
    "            capital += sell_price\n",
    "            trades.append((buy_price, sell_price))\n",
    "\n",
    "    # Calculate final capital and returns\n",
    "    final_value = capital + (position * data['Close'].iloc[-1])\n",
    "    returns = (final_value - initial_capital) / initial_capital * 100\n",
    "\n",
    "    return final_value, returns, trades\n"
   ]
  },
  {
   "cell_type": "code",
   "execution_count": null,
   "metadata": {},
   "outputs": [],
   "source": [
    "data=get_klines()\n",
    "data['200_MA'] = data['Close'].rolling(window=200).mean()\n",
    "\n",
    "# Calculate MACD and Signal line\n",
    "data['MACD'], data['Signal'] = calculate_macd(data)\n",
    "\n",
    "# Generate buy/sell signals with stop loss and take profit\n",
    "data['Buy_Signal'], data['Sell_Signal'] = generate_signals(data)\n",
    "\n",
    "# Perform backtesting\n",
    "final_value, returns, trades = backtest_strategy(data)\n",
    "\n",
    "print(\"Final Portfolio Value: $\", final_value)\n",
    "print(\"Total Return: \", returns, \"%\")"
   ]
  },
  {
   "cell_type": "code",
   "execution_count": null,
   "metadata": {},
   "outputs": [],
   "source": [
    "# Plotting\n",
    "plt.figure(figsize=(14,7))\n",
    "plt.plot(data['Close'], label='Close Price', alpha=0.5)\n",
    "plt.plot(data['200_MA'], label='200-day MA', alpha=0.5)\n",
    "plt.scatter(data.index[data['Buy_Signal']], data['Close'][data['Buy_Signal']], marker='^', color='g', label='Buy Signal')\n",
    "plt.scatter(data.index[data['Sell_Signal']], data['Close'][data['Sell_Signal']], marker='v', color='r', label='Sell Signal')\n",
    "plt.title('Enhanced Crypto Trading Strategy with MACD, 200-day MA, Stop Loss, and Take Profit')\n",
    "plt.legend()\n",
    "plt.show()"
   ]
  },
  {
   "cell_type": "code",
   "execution_count": null,
   "metadata": {},
   "outputs": [],
   "source": [
    "def get_tp_spl(expected_profit,amount,price,side):\n",
    "    expected_profit =25\n",
    "    expected_loss =expected_profit/3\n",
    "\n",
    "   \n",
    "\n",
    "    perct_increae= (expected_profit/amount)\n",
    "    perct_decreae= (expected_loss/amount)\n",
    "\n",
    "    ltp =price*(1+perct_increae)\n",
    "    lsl =price*(1-perct_decreae)\n",
    "\n",
    "    stp =price*(1-perct_increae)\n",
    "    ssl =price*(1+perct_decreae)\n",
    "\n",
    "    if side =='buy':\n",
    "      return (ltp,lsl)\n",
    "    \n",
    "    else:\n",
    "       return(stp,ssl)\n",
    "    \n",
    "\n",
    "\n",
    "    \n",
    "\n",
    "\n",
    "\n",
    "\n"
   ]
  },
  {
   "cell_type": "code",
   "execution_count": 3,
   "metadata": {},
   "outputs": [
    {
     "name": "stdout",
     "output_type": "stream",
     "text": [
      "{'retCode': 0, 'retMsg': 'OK', 'result': {'orderId': '1630539316747043328', 'orderLinkId': 'spot-test-postonly'}, 'retExtInfo': {}, 'time': 1709111433534}\n"
     ]
    }
   ],
   "source": [
    "from pybit.unified_trading import HTTP\n",
    "session = HTTP(\n",
    "    testnet=True,\n",
    "    api_key=\"vHnoV1kQTgYsmhaY2s\",\n",
    "    api_secret=\"C5lVp013avzhEZgojyYxiT4TzwnZOX70gu8n\",\n",
    ")\n",
    "print(session.place_order(\n",
    "    category=\"spot\",\n",
    "    symbol=\"BTCUSDT\",\n",
    "    side=\"Buy\",\n",
    "    orderType=\"Limit\",\n",
    "    qty=\"0.1\",\n",
    "    price=\"15600\",\n",
    "    timeInForce=\"PostOnly\",\n",
    "    orderLinkId=\"spot-test-postonly\",\n",
    "    isLeverage=0,\n",
    "    orderFilter=\"Order\",\n",
    "))"
   ]
  },
  {
   "cell_type": "code",
   "execution_count": 11,
   "metadata": {},
   "outputs": [],
   "source": [
    "open=[1,2,3,5]\n",
    "\n",
    "if len(open)==5:\n",
    "    print(len(open))"
   ]
  },
  {
   "cell_type": "code",
   "execution_count": 32,
   "metadata": {},
   "outputs": [],
   "source": [
    "from ta import momentum\n",
    "def calculate_ema(df):\n",
    "    close_df = df[\"Close\"]\n",
    "    ema9 = close_df.ewm(span=12, adjust=False).mean()\n",
    "    ema14 = close_df.ewm(span=14, adjust=False).mean()\n",
    "    ema21 = close_df.ewm(span=21, adjust=False).mean()\n",
    "    ema26 = close_df.ewm(span=26, adjust=False).mean()\n",
    "    ema50 = close_df.ewm(span=50, adjust=False).mean()\n",
    "    ema200 = close_df.ewm(span=200, adjust=False).mean()\n",
    "\n",
    "    return ema9.iloc[-1],ema14.iloc[-1],ema21.iloc[-1], ema26.iloc[-1],ema50.iloc[-1],ema200.iloc[-1],close_df.iloc[-1]\n",
    "\n",
    "\n",
    "\n",
    "def three_moving_average_rsi_strategy(df):\n",
    "    _,_,ema21,_,ema50,ema200,last_price=calculate_ema(df=df)\n",
    "\n",
    "    rsi =momentum.rsi(close=df['Close'],window=14)\n",
    "    print(rsi.iloc[-2])\n",
    "\n",
    "    if( last_price >ema21) and (ema21>ema50) and (ema50>ema200) and (rsi <50):\n",
    "        print('Buy')\n"
   ]
  },
  {
   "cell_type": "code",
   "execution_count": 33,
   "metadata": {},
   "outputs": [
    {
     "name": "stdout",
     "output_type": "stream",
     "text": [
      "63.66355175639627\n"
     ]
    },
    {
     "ename": "ValueError",
     "evalue": "The truth value of a Series is ambiguous. Use a.empty, a.bool(), a.item(), a.any() or a.all().",
     "output_type": "error",
     "traceback": [
      "\u001b[1;31m---------------------------------------------------------------------------\u001b[0m",
      "\u001b[1;31mValueError\u001b[0m                                Traceback (most recent call last)",
      "\u001b[1;32m~\\AppData\\Local\\Temp\\ipykernel_17452\\2778518533.py\u001b[0m in \u001b[0;36m?\u001b[1;34m()\u001b[0m\n\u001b[0;32m      1\u001b[0m \u001b[0mdf\u001b[0m \u001b[1;33m=\u001b[0m\u001b[0mget_klines\u001b[0m\u001b[1;33m(\u001b[0m\u001b[1;33m)\u001b[0m\u001b[1;33m\u001b[0m\u001b[1;33m\u001b[0m\u001b[0m\n\u001b[0;32m      2\u001b[0m \u001b[1;33m\u001b[0m\u001b[0m\n\u001b[1;32m----> 3\u001b[1;33m \u001b[0mthree_moving_average_rsi_strategy\u001b[0m\u001b[1;33m(\u001b[0m\u001b[0mdf\u001b[0m\u001b[1;33m)\u001b[0m\u001b[1;33m\u001b[0m\u001b[1;33m\u001b[0m\u001b[0m\n\u001b[0m",
      "\u001b[1;32m~\\AppData\\Local\\Temp\\ipykernel_17452\\4230325409.py\u001b[0m in \u001b[0;36m?\u001b[1;34m(df)\u001b[0m\n\u001b[0;32m     17\u001b[0m \u001b[1;33m\u001b[0m\u001b[0m\n\u001b[0;32m     18\u001b[0m     \u001b[0mrsi\u001b[0m \u001b[1;33m=\u001b[0m\u001b[0mmomentum\u001b[0m\u001b[1;33m.\u001b[0m\u001b[0mrsi\u001b[0m\u001b[1;33m(\u001b[0m\u001b[0mclose\u001b[0m\u001b[1;33m=\u001b[0m\u001b[0mdf\u001b[0m\u001b[1;33m[\u001b[0m\u001b[1;34m'Close'\u001b[0m\u001b[1;33m]\u001b[0m\u001b[1;33m,\u001b[0m\u001b[0mwindow\u001b[0m\u001b[1;33m=\u001b[0m\u001b[1;36m14\u001b[0m\u001b[1;33m)\u001b[0m\u001b[1;33m\u001b[0m\u001b[1;33m\u001b[0m\u001b[0m\n\u001b[0;32m     19\u001b[0m     \u001b[0mprint\u001b[0m\u001b[1;33m(\u001b[0m\u001b[0mrsi\u001b[0m\u001b[1;33m.\u001b[0m\u001b[0miloc\u001b[0m\u001b[1;33m[\u001b[0m\u001b[1;33m-\u001b[0m\u001b[1;36m2\u001b[0m\u001b[1;33m]\u001b[0m\u001b[1;33m)\u001b[0m\u001b[1;33m\u001b[0m\u001b[1;33m\u001b[0m\u001b[0m\n\u001b[0;32m     20\u001b[0m \u001b[1;33m\u001b[0m\u001b[0m\n\u001b[1;32m---> 21\u001b[1;33m     \u001b[1;32mif\u001b[0m\u001b[1;33m(\u001b[0m \u001b[0mlast_price\u001b[0m \u001b[1;33m>\u001b[0m\u001b[0mema21\u001b[0m\u001b[1;33m)\u001b[0m \u001b[1;32mand\u001b[0m \u001b[1;33m(\u001b[0m\u001b[0mema21\u001b[0m\u001b[1;33m>\u001b[0m\u001b[0mema50\u001b[0m\u001b[1;33m)\u001b[0m \u001b[1;32mand\u001b[0m \u001b[1;33m(\u001b[0m\u001b[0mema50\u001b[0m\u001b[1;33m>\u001b[0m\u001b[0mema200\u001b[0m\u001b[1;33m)\u001b[0m \u001b[1;32mand\u001b[0m \u001b[1;33m(\u001b[0m\u001b[0mrsi\u001b[0m \u001b[1;33m<\u001b[0m\u001b[1;36m50\u001b[0m\u001b[1;33m)\u001b[0m\u001b[1;33m:\u001b[0m\u001b[1;33m\u001b[0m\u001b[1;33m\u001b[0m\u001b[0m\n\u001b[0m\u001b[0;32m     22\u001b[0m         \u001b[0mprint\u001b[0m\u001b[1;33m(\u001b[0m\u001b[1;34m'Buy'\u001b[0m\u001b[1;33m)\u001b[0m\u001b[1;33m\u001b[0m\u001b[1;33m\u001b[0m\u001b[0m\n",
      "\u001b[1;32mc:\\Users\\oyomi01\\Documents\\GitHub\\Work_Folder\\Crypto-Trading\\bybit_day_trading\\venv\\lib\\site-packages\\pandas\\core\\generic.py\u001b[0m in \u001b[0;36m?\u001b[1;34m(self)\u001b[0m\n\u001b[0;32m   1574\u001b[0m     \u001b[1;33m@\u001b[0m\u001b[0mfinal\u001b[0m\u001b[1;33m\u001b[0m\u001b[1;33m\u001b[0m\u001b[0m\n\u001b[0;32m   1575\u001b[0m     \u001b[1;32mdef\u001b[0m \u001b[0m__nonzero__\u001b[0m\u001b[1;33m(\u001b[0m\u001b[0mself\u001b[0m\u001b[1;33m)\u001b[0m \u001b[1;33m->\u001b[0m \u001b[0mNoReturn\u001b[0m\u001b[1;33m:\u001b[0m\u001b[1;33m\u001b[0m\u001b[1;33m\u001b[0m\u001b[0m\n\u001b[1;32m-> 1576\u001b[1;33m         raise ValueError(\n\u001b[0m\u001b[0;32m   1577\u001b[0m             \u001b[1;34mf\"The truth value of a {type(self).__name__} is ambiguous. \"\u001b[0m\u001b[1;33m\u001b[0m\u001b[1;33m\u001b[0m\u001b[0m\n\u001b[0;32m   1578\u001b[0m             \u001b[1;34m\"Use a.empty, a.bool(), a.item(), a.any() or a.all().\"\u001b[0m\u001b[1;33m\u001b[0m\u001b[1;33m\u001b[0m\u001b[0m\n\u001b[0;32m   1579\u001b[0m         )\n",
      "\u001b[1;31mValueError\u001b[0m: The truth value of a Series is ambiguous. Use a.empty, a.bool(), a.item(), a.any() or a.all()."
     ]
    }
   ],
   "source": [
    "df =get_klines()\n",
    "\n",
    "three_moving_average_rsi_strategy(df)"
   ]
  }
 ],
 "metadata": {
  "kernelspec": {
   "display_name": "venv",
   "language": "python",
   "name": "python3"
  },
  "language_info": {
   "codemirror_mode": {
    "name": "ipython",
    "version": 3
   },
   "file_extension": ".py",
   "mimetype": "text/x-python",
   "name": "python",
   "nbconvert_exporter": "python",
   "pygments_lexer": "ipython3",
   "version": "3.10.11"
  }
 },
 "nbformat": 4,
 "nbformat_minor": 2
}
