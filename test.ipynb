{
 "cells": [
  {
   "cell_type": "code",
   "execution_count": null,
   "metadata": {},
   "outputs": [],
   "source": [
    "import numpy as np\n",
    "import pandas as pd\n",
    "import numpy as np\n",
    "import matplotlib.pyplot as plt\n",
    "from keys import api, secret\n",
    "from pybit.unified_trading import HTTP\n",
    "\n",
    "\n",
    "session = HTTP(\n",
    "    api_key=api,\n",
    "    api_secret=secret)\n",
    "\n",
    "session = HTTP(api_key=api, api_secret=secret)\n"
   ]
  },
  {
   "cell_type": "code",
   "execution_count": null,
   "metadata": {},
   "outputs": [],
   "source": [
    "\n",
    "def get_klines():\n",
    "    try:\n",
    "        resp = session.get_kline(\n",
    "            category='linear',\n",
    "            symbol='BTCUSDT',\n",
    "            interval=1,\n",
    "            limit=750\n",
    "        )['result']['list']\n",
    "        df = pd.DataFrame(resp)\n",
    "        df.columns = ['Time', 'Open', 'High', 'Low', 'Close', 'Volume', 'Turnover']\n",
    "        df = df.set_index('Time').astype(float).iloc[::-1]\n",
    "        return df\n",
    "    except Exception as e:\n",
    "        print(f\"Error fetching klines: {e}\")\n",
    "        return None"
   ]
  },
  {
   "cell_type": "code",
   "execution_count": null,
   "metadata": {},
   "outputs": [],
   "source": [
    "df=get_klines()\n",
    "ema_12 = df['Close'].ewm(span=12, min_periods=12).mean()\n",
    "ema_26 = df['Close'].ewm(span=26, min_periods=26).mean()\n",
    "macd_line = ema_12 - ema_26\n",
    "signal_line = macd_line.ewm(span=9, min_periods=9).mean()\n",
    "df['MACD'] = macd_line\n",
    "df['Signal_Line'] = signal_line\n",
    "\n",
    "# Calculate 200-period Moving Average\n",
    "df['200_MA'] = df['Close'].rolling(window=200).mean()"
   ]
  },
  {
   "cell_type": "code",
   "execution_count": null,
   "metadata": {},
   "outputs": [],
   "source": [
    "# Generate buy/sell signals\n",
    "df['Buy_Signal'] = (df['MACD'] > df['Signal_Line']) & (df['Close'] > df['200_MA'])&(df['MACD']>5)\n",
    "df['Sell_Signal'] = (df['MACD'] < df['Signal_Line']) & (df['Close'] < df['200_MA'])&(df['MACD']>-5)\n"
   ]
  },
  {
   "cell_type": "code",
   "execution_count": null,
   "metadata": {},
   "outputs": [],
   "source": [
    "# Implement trading strategy\n",
    "df['Position'] = np.where((df['MACD'] > df['Signal_Line']) & (df['Close'] > df['200_MA']), 1, 0)\n",
    "df['Position'] = np.where((df['MACD'] < df['Signal_Line']) & (df['Close'] < df['200_MA']), -1, df['Position'])\n",
    "\n",
    "# Calculate returns\n",
    "df['Returns'] = df['Close'].pct_change() * df['Position'].shift(1)\n"
   ]
  },
  {
   "cell_type": "code",
   "execution_count": null,
   "metadata": {},
   "outputs": [],
   "source": [
    "\n",
    "# Calculate returns\n",
    "df['Returns'] = df['Close'].pct_change() * df['Position'].shift(1)\n",
    "\n",
    "# Print cumulative returns\n",
    "cumulative_returns = (df['Returns'] + 1).cumprod() - 1\n",
    "print(\"Cumulative Returns:\", cumulative_returns.iloc[-1])"
   ]
  },
  {
   "cell_type": "code",
   "execution_count": null,
   "metadata": {},
   "outputs": [],
   "source": [
    "# Plot results\n",
    "plt.figure(figsize=(14,7))\n",
    "plt.plot(df['Close'], label='Price')\n",
    "plt.plot(df['200_MA'], label='200 MA', color='orange')\n",
    "plt.scatter(df[df['Position'] == 1].index, df[df['Position'] == 1]['Close'], label='Buy Signal', marker='^', color='g')\n",
    "plt.scatter(df[df['Position'] == -1].index, df[df['Position'] == -1]['Close'], label='Sell Signal', marker='v', color='r')\n",
    "plt.legend()\n",
    "plt.title('MACD and 200 SMA Trading Strategy')\n",
    "plt.show()"
   ]
  },
  {
   "cell_type": "code",
   "execution_count": null,
   "metadata": {},
   "outputs": [],
   "source": [
    "def backtest_strategy(data):\n",
    "    initial_capital = 10000 # Initial capital in USD\n",
    "    capital = initial_capital\n",
    "    position = 0  # 0: No position, 1: Long position, -1: Short position\n",
    "    buy_price = 0\n",
    "    sell_price = 0\n",
    "    trades = []\n",
    "\n",
    "    for i in range(1, len(data)):\n",
    "        if data['Buy_Signal'][i] and position == 0:\n",
    "            position = 1\n",
    "            buy_price = data['Close'][i]\n",
    "            capital -= buy_price\n",
    "        elif data['Sell_Signal'][i] and position == 1:\n",
    "            position = 0\n",
    "            sell_price = data['Close'][i]\n",
    "            capital += sell_price\n",
    "            trades.append((buy_price, sell_price))\n",
    "\n",
    "    # Calculate final capital and returns\n",
    "    final_value = capital + (position * data['Close'].iloc[-1])\n",
    "    returns = (final_value - initial_capital) / initial_capital * 100\n",
    "\n",
    "    return final_value, returns, trades\n"
   ]
  },
  {
   "cell_type": "code",
   "execution_count": null,
   "metadata": {},
   "outputs": [],
   "source": [
    "data=get_klines()\n",
    "data['200_MA'] = data['Close'].rolling(window=200).mean()\n",
    "\n",
    "# Calculate MACD and Signal line\n",
    "data['MACD'], data['Signal'] = calculate_macd(data)\n",
    "\n",
    "# Generate buy/sell signals with stop loss and take profit\n",
    "data['Buy_Signal'], data['Sell_Signal'] = generate_signals(data)\n",
    "\n",
    "# Perform backtesting\n",
    "final_value, returns, trades = backtest_strategy(data)\n",
    "\n",
    "print(\"Final Portfolio Value: $\", final_value)\n",
    "print(\"Total Return: \", returns, \"%\")"
   ]
  },
  {
   "cell_type": "code",
   "execution_count": null,
   "metadata": {},
   "outputs": [],
   "source": [
    "# Plotting\n",
    "plt.figure(figsize=(14,7))\n",
    "plt.plot(data['Close'], label='Close Price', alpha=0.5)\n",
    "plt.plot(data['200_MA'], label='200-day MA', alpha=0.5)\n",
    "plt.scatter(data.index[data['Buy_Signal']], data['Close'][data['Buy_Signal']], marker='^', color='g', label='Buy Signal')\n",
    "plt.scatter(data.index[data['Sell_Signal']], data['Close'][data['Sell_Signal']], marker='v', color='r', label='Sell Signal')\n",
    "plt.title('Enhanced Crypto Trading Strategy with MACD, 200-day MA, Stop Loss, and Take Profit')\n",
    "plt.legend()\n",
    "plt.show()"
   ]
  },
  {
   "cell_type": "code",
   "execution_count": null,
   "metadata": {},
   "outputs": [],
   "source": [
    "def get_tp_spl(expected_profit,amount,price,side):\n",
    "    expected_profit =25\n",
    "    expected_loss =expected_profit/3\n",
    "\n",
    "   \n",
    "\n",
    "    perct_increae= (expected_profit/amount)\n",
    "    perct_decreae= (expected_loss/amount)\n",
    "\n",
    "    ltp =price*(1+perct_increae)\n",
    "    lsl =price*(1-perct_decreae)\n",
    "\n",
    "    stp =price*(1-perct_increae)\n",
    "    ssl =price*(1+perct_decreae)\n",
    "\n",
    "    if side =='buy':\n",
    "      return (ltp,lsl)\n",
    "    \n",
    "    else:\n",
    "       return(stp,ssl)\n",
    "    \n",
    "\n",
    "\n",
    "    \n",
    "\n",
    "\n",
    "\n",
    "\n"
   ]
  },
  {
   "cell_type": "code",
   "execution_count": null,
   "metadata": {},
   "outputs": [],
   "source": [
    "from pybit.unified_trading import HTTP\n",
    "session = HTTP(\n",
    "    testnet=True,\n",
    "    api_key=\"vHnoV1kQTgYsmhaY2s\",\n",
    "    api_secret=\"C5lVp013avzhEZgojyYxiT4TzwnZOX70gu8n\",\n",
    ")\n",
    "print(session.place_order(\n",
    "    category=\"spot\",\n",
    "    symbol=\"BTCUSDT\",\n",
    "    side=\"Buy\",\n",
    "    orderType=\"Limit\",\n",
    "    qty=\"0.1\",\n",
    "    price=\"15600\",\n",
    "    timeInForce=\"PostOnly\",\n",
    "    orderLinkId=\"spot-test-postonly\",\n",
    "    isLeverage=0,\n",
    "    orderFilter=\"Order\",\n",
    "))"
   ]
  },
  {
   "cell_type": "code",
   "execution_count": null,
   "metadata": {},
   "outputs": [],
   "source": [
    "open=[1,2,3,5]\n",
    "\n",
    "if len(open)==5:\n",
    "    print(len(open))"
   ]
  },
  {
   "cell_type": "code",
   "execution_count": null,
   "metadata": {},
   "outputs": [],
   "source": [
    "from ta import momentum\n",
    "def calculate_ema(df):\n",
    "    close_df = df[\"Close\"]\n",
    "    ema9 = close_df.ewm(span=12, adjust=False).mean()\n",
    "    ema14 = close_df.ewm(span=14, adjust=False).mean()\n",
    "    ema21 = close_df.ewm(span=21, adjust=False).mean()\n",
    "    ema26 = close_df.ewm(span=26, adjust=False).mean()\n",
    "    ema50 = close_df.ewm(span=50, adjust=False).mean()\n",
    "    ema200 = close_df.ewm(span=200, adjust=False).mean()\n",
    "\n",
    "    return ema9.iloc[-1],ema14.iloc[-1],ema21.iloc[-1], ema26.iloc[-1],ema50.iloc[-1],ema200.iloc[-1],close_df.iloc[-1]\n",
    "\n",
    "\n",
    "\n",
    "def three_moving_average_rsi_strategy(df):\n",
    "    _,_,ema21,_,ema50,ema200,last_price=calculate_ema(df=df)\n",
    "\n",
    "    rsi =momentum.rsi(close=df['Close'],window=14)\n",
    "    print(rsi.iloc[-2])\n",
    "\n",
    "    if( last_price >ema21) and (ema21>ema50) and (ema50>ema200) and (rsi <50):\n",
    "        print('Buy')\n"
   ]
  },
  {
   "cell_type": "code",
   "execution_count": null,
   "metadata": {},
   "outputs": [],
   "source": []
  },
  {
   "cell_type": "code",
   "execution_count": null,
   "metadata": {},
   "outputs": [],
   "source": [
    "df =get_klines()\n",
    "\n",
    "three_moving_average_rsi_strategy(df)"
   ]
  },
  {
   "cell_type": "code",
   "execution_count": null,
   "metadata": {},
   "outputs": [],
   "source": [
    "import pandas as pd\n",
    "from ta.trend import MACD\n",
    "from ta.momentum import RSIIndicator\n",
    "\n",
    "# Function to generate trading signals based on refined strategy\n",
    "def generate_signals(close_prices):\n",
    "    # Calculate EMAs for both timeframes\n",
    "    ema9_15min = close_prices.ewm(span=9).mean()\n",
    "    ema50_15min = close_prices.ewm(span=50).mean()\n",
    "    ema50_30min = close_prices.resample('30T').apply(lambda x: x.ewm(span=50).mean())\n",
    "    ema100_30min = close_prices.resample('30T').apply(lambda x: x.ewm(span=100).mean())\n",
    "    \n",
    "    # Calculate MACD for confirmation\n",
    "    macd = MACD(close=close_prices).macd()\n",
    "    \n",
    "    # Calculate RSI for confirmation\n",
    "    rsi = RSIIndicator(close_prices).rsi()\n",
    "    \n",
    "    signals = pd.DataFrame(index=close_prices.index)\n",
    "    signals['Price'] = close_prices\n",
    "    signals['Signal'] = 0.0\n",
    "    \n",
    "    # Long Entry (Buy Signal) with confirmation\n",
    "    signals['Signal'][(ema9_15min.shift(1) < ema50_15min.shift(1)) & (ema9_15min > ema50_15min) & \n",
    "                      (ema50_30min.shift(1) < ema100_30min.shift(1)) & (ema50_30min > ema100_30min) &\n",
    "                      (macd > 0) & (rsi > 30)] = 1.0\n",
    "    \n",
    "    # Short Entry (Sell Signal) with confirmation\n",
    "    signals['Signal'][(ema9_15min.shift(1) > ema50_15min.shift(1)) & (ema9_15min < ema50_15min) & \n",
    "                      (ema50_30min.shift(1) > ema100_30min.shift(1)) & (ema50_30min < ema100_30min) &\n",
    "                      (macd < 0) & (rsi < 70)] = -1.0\n",
    "    \n",
    "    # Exit long positions\n",
    "    signals['Signal'][(ema9_15min.shift(1) > ema50_15min.shift(1)) & (ema9_15min < ema50_15min)] = 0.0\n",
    "    \n",
    "    # Exit short positions\n",
    "    signals['Signal'][(ema9_15min.shift(1) < ema50_15min.shift(1)) & (ema9_15min > ema50_15min)] = 0.0\n",
    "    \n",
    "    return signals\n",
    "\n",
    "# Main function to run the refined trading strategy\n",
    "def main():\n",
    "    # Assuming you have fetched historical price data for the desired cryptocurrency pair\n",
    "    close_prices = pd.Series()  # Replace this with actual data\n",
    "    signals = generate_signals(close_prices)\n",
    "    print(signals)\n",
    "\n",
    "\n",
    "main()\n"
   ]
  }
 ],
 "metadata": {
  "kernelspec": {
   "display_name": "venv",
   "language": "python",
   "name": "python3"
  },
  "language_info": {
   "codemirror_mode": {
    "name": "ipython",
    "version": 3
   },
   "file_extension": ".py",
   "mimetype": "text/x-python",
   "name": "python",
   "nbconvert_exporter": "python",
   "pygments_lexer": "ipython3",
   "version": "3.10.11"
  }
 },
 "nbformat": 4,
 "nbformat_minor": 2
}
